{
 "cells": [
  {
   "cell_type": "code",
   "execution_count": 11,
   "id": "5898fa1f-b860-49a6-8d23-6e988ea7c82d",
   "metadata": {},
   "outputs": [
    {
     "name": "stderr",
     "output_type": "stream",
     "text": [
      "'import' is not recognized as an internal or external command,\n",
      "operable program or batch file.\n",
      "'import' is not recognized as an internal or external command,\n",
      "operable program or batch file.\n",
      "'import' is not recognized as an internal or external command,\n",
      "operable program or batch file.\n"
     ]
    }
   ],
   "source": [
    "!import pandas as pd\n",
    "import numpy as np\n",
    "import matplotlib.pyplot as plt"
   ]
  },
  {
   "cell_type": "code",
   "execution_count": 6,
   "id": "ca68c8c5-6709-41d7-a3d8-6d6bf8e719d4",
   "metadata": {},
   "outputs": [
    {
     "ename": "NameError",
     "evalue": "name 'np' is not defined",
     "output_type": "error",
     "traceback": [
      "\u001b[1;31m---------------------------------------------------------------------------\u001b[0m",
      "\u001b[1;31mNameError\u001b[0m                                 Traceback (most recent call last)",
      "Cell \u001b[1;32mIn[6], line 6\u001b[0m\n\u001b[0;32m      2\u001b[0m start \u001b[38;5;241m=\u001b[39m \u001b[38;5;241m-\u001b[39m\u001b[38;5;241m5\u001b[39m\n\u001b[0;32m      3\u001b[0m end \u001b[38;5;241m=\u001b[39m \u001b[38;5;241m5\u001b[39m\n\u001b[1;32m----> 6\u001b[0m X \u001b[38;5;241m=\u001b[39m \u001b[43mnp\u001b[49m\u001b[38;5;241m.\u001b[39mlinspace(start, end, num_points)\n\u001b[0;32m      8\u001b[0m Y\u001b[38;5;241m=\u001b[39m\u001b[38;5;241m10\u001b[39m\u001b[38;5;241m*\u001b[39mX\u001b[38;5;241m+\u001b[39m\u001b[38;5;241m4\u001b[39m\n\u001b[0;32m      9\u001b[0m mean \u001b[38;5;241m=\u001b[39m \u001b[38;5;241m0\u001b[39m  \n",
      "\u001b[1;31mNameError\u001b[0m: name 'np' is not defined"
     ]
    }
   ],
   "source": [
    "\n",
    "\n",
    "num_points = 100\n",
    "start = -5\n",
    "end = 5\n",
    "\n",
    "\n",
    "X = np.linspace(start, end, num_points)\n",
    "\n",
    "Y=10*X+4\n",
    "mean = 0  \n",
    "std_dev = 5  \n",
    "noise = np.random.normal(mean, std_dev, num_points)\n",
    "Y=Y+noise"
   ]
  },
  {
   "cell_type": "code",
   "execution_count": 7,
   "id": "e34d6fe2-abcb-4ac9-a545-5ae49e9f5e95",
   "metadata": {},
   "outputs": [
    {
     "ename": "NameError",
     "evalue": "name 'np' is not defined",
     "output_type": "error",
     "traceback": [
      "\u001b[1;31m---------------------------------------------------------------------------\u001b[0m",
      "\u001b[1;31mNameError\u001b[0m                                 Traceback (most recent call last)",
      "Cell \u001b[1;32mIn[7], line 1\u001b[0m\n\u001b[1;32m----> 1\u001b[0m ones_column \u001b[38;5;241m=\u001b[39m \u001b[43mnp\u001b[49m\u001b[38;5;241m.\u001b[39mones((X\u001b[38;5;241m.\u001b[39mshape[\u001b[38;5;241m0\u001b[39m], ))  \u001b[38;5;66;03m# ساخت ستون ۱‌ها با طول برابر تعداد ردیف‌های X\u001b[39;00m\n\u001b[0;32m      2\u001b[0m X_with_bias \u001b[38;5;241m=\u001b[39m np\u001b[38;5;241m.\u001b[39mvstack((ones_column,X))  \u001b[38;5;66;03m# ترکیب ستون ۱‌ها با X\u001b[39;00m\n",
      "\u001b[1;31mNameError\u001b[0m: name 'np' is not defined"
     ]
    }
   ],
   "source": [
    "ones_column = np.ones((X.shape[0], ))  # ساخت ستون ۱‌ها با طول برابر تعداد ردیف‌های X\n",
    "X_with_bias = np.vstack((ones_column,X))  # ترکیب ستون ۱‌ها با X\n"
   ]
  },
  {
   "cell_type": "code",
   "execution_count": 8,
   "id": "08adce39-581c-48c1-9bd5-cceb2dad295f",
   "metadata": {},
   "outputs": [
    {
     "ename": "NameError",
     "evalue": "name 'X_with_bias' is not defined",
     "output_type": "error",
     "traceback": [
      "\u001b[1;31m---------------------------------------------------------------------------\u001b[0m",
      "\u001b[1;31mNameError\u001b[0m                                 Traceback (most recent call last)",
      "Cell \u001b[1;32mIn[8], line 1\u001b[0m\n\u001b[1;32m----> 1\u001b[0m X_transposed \u001b[38;5;241m=\u001b[39m \u001b[43mX_with_bias\u001b[49m\u001b[38;5;241m.\u001b[39mT\n\u001b[0;32m      2\u001b[0m Y_transposed \u001b[38;5;241m=\u001b[39m Y\u001b[38;5;241m.\u001b[39mT\n\u001b[0;32m      4\u001b[0m result2 \u001b[38;5;241m=\u001b[39m np\u001b[38;5;241m.\u001b[39mdot(X_with_bias,Y_transposed)\n",
      "\u001b[1;31mNameError\u001b[0m: name 'X_with_bias' is not defined"
     ]
    }
   ],
   "source": [
    "\n",
    "X_transposed = X_with_bias.T\n",
    "Y_transposed = Y.T\n",
    "\n",
    "result2 = np.dot(X_with_bias,Y_transposed)\n",
    "result1 = np.dot(X_transposed, X_with_bias)\n",
    "result1 = np.linalg.inv(X_with_bias.dot(X_with_bias.T))\n",
    "w=np.dot(result1,result2)\n",
    "print(np.dot(result1,result2))"
   ]
  },
  {
   "cell_type": "code",
   "execution_count": 9,
   "id": "ba1c30b4-6f89-4434-81ea-3a29027b9bf8",
   "metadata": {},
   "outputs": [],
   "source": [
    "def drawLine(x,w):\n",
    "    return x*w[1]+w[0]\n",
    "    print(f\"w0={w[0]} and w1={w[1]}\")"
   ]
  },
  {
   "cell_type": "code",
   "execution_count": 10,
   "id": "8c86cc7d-5b47-481e-b34c-ac647769b86a",
   "metadata": {},
   "outputs": [
    {
     "ename": "NameError",
     "evalue": "name 'X' is not defined",
     "output_type": "error",
     "traceback": [
      "\u001b[1;31m---------------------------------------------------------------------------\u001b[0m",
      "\u001b[1;31mNameError\u001b[0m                                 Traceback (most recent call last)",
      "Cell \u001b[1;32mIn[10], line 1\u001b[0m\n\u001b[1;32m----> 1\u001b[0m drawLine(\u001b[43mX\u001b[49m,w)\n\u001b[0;32m      2\u001b[0m plt\u001b[38;5;241m.\u001b[39mscatter(X, Y, color\u001b[38;5;241m=\u001b[39m\u001b[38;5;124m'\u001b[39m\u001b[38;5;124mblue\u001b[39m\u001b[38;5;124m'\u001b[39m, label\u001b[38;5;241m=\u001b[39m\u001b[38;5;124m'\u001b[39m\u001b[38;5;124mActual Data\u001b[39m\u001b[38;5;124m'\u001b[39m)\n\u001b[0;32m      3\u001b[0m plt\u001b[38;5;241m.\u001b[39mplot(X, drawLine(X, w), color\u001b[38;5;241m=\u001b[39m\u001b[38;5;124m'\u001b[39m\u001b[38;5;124mred\u001b[39m\u001b[38;5;124m'\u001b[39m, label\u001b[38;5;241m=\u001b[39m\u001b[38;5;124m'\u001b[39m\u001b[38;5;124mPrediction (Closed Form)\u001b[39m\u001b[38;5;124m'\u001b[39m)\n",
      "\u001b[1;31mNameError\u001b[0m: name 'X' is not defined"
     ]
    }
   ],
   "source": [
    "drawLine(X,w)\n",
    "plt.scatter(X, Y, color='blue', label='Actual Data')\n",
    "plt.plot(X, drawLine(X, w), color='red', label='Prediction (Closed Form)')\n",
    "plt.title(f\"Polynomial Regression (Degree {1})\")\n",
    "plt.xlabel(\"$x$\")\n",
    "plt.ylabel(\"$y$\")\n",
    "plt.legend()\n",
    "plt.show()"
   ]
  },
  {
   "cell_type": "code",
   "execution_count": null,
   "id": "3a3e31fa-c6f2-4d4b-a311-912b44a7552b",
   "metadata": {},
   "outputs": [],
   "source": []
  },
  {
   "cell_type": "code",
   "execution_count": null,
   "id": "a6ebe0a4-0ce7-4e90-9841-e78cf72bf8f8",
   "metadata": {},
   "outputs": [],
   "source": []
  }
 ],
 "metadata": {
  "kernelspec": {
   "display_name": "Python 3 (ipykernel)",
   "language": "python",
   "name": "python3"
  },
  "language_info": {
   "codemirror_mode": {
    "name": "ipython",
    "version": 3
   },
   "file_extension": ".py",
   "mimetype": "text/x-python",
   "name": "python",
   "nbconvert_exporter": "python",
   "pygments_lexer": "ipython3",
   "version": "3.12.6"
  }
 },
 "nbformat": 4,
 "nbformat_minor": 5
}
